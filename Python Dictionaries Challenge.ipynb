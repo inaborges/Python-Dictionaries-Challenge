{
 "cells": [
  {
   "cell_type": "markdown",
   "metadata": {},
   "source": [
    "# Python Dictionaries Challenge"
   ]
  },
  {
   "cell_type": "markdown",
   "metadata": {},
   "source": [
    "## Hurricane Analysis"
   ]
  },
  {
   "cell_type": "markdown",
   "metadata": {},
   "source": [
    "Marina Borges  \n",
    "[github.com/inaborges](https://github.com/inaborges)  \n",
    "Data Science Path, Codecademy, 2020"
   ]
  },
  {
   "cell_type": "markdown",
   "metadata": {},
   "source": [
    "### Overview\n",
    "\n",
    "This project is slightly different than others you have encountered thus far on Codecademy. Instead of a step-by-step tutorial, this project contains a series of open-ended requirements which describe the project you’ll be building. There are many possible ways to correctly fulfill all of these requirements, and you should expect to use the internet, Codecademy, and other resources when you encounter a problem that you cannot easily solve."
   ]
  },
  {
   "cell_type": "markdown",
   "metadata": {},
   "source": [
    "### Project Goals\n",
    "\n",
    "You will work to write several functions that organize and manipulate data about Category 5 Hurricanes, the strongest hurricanes as rated by their wind speed. Each one of these functions will use a number of parameters, conditionals, lists, dictionaries, string manipulation, and return statements."
   ]
  },
  {
   "cell_type": "code",
   "execution_count": 1,
   "metadata": {},
   "outputs": [],
   "source": [
    "# names of hurricanes\n",
    "names = ['Cuba I', 'San Felipe II Okeechobee', 'Bahamas', 'Cuba II', 'CubaBrownsville', 'Tampico', 'Labor Day', 'New England', 'Carol', 'Janet', 'Carla', 'Hattie', 'Beulah', 'Camille', 'Edith', 'Anita', 'David', 'Allen', 'Gilbert', 'Hugo', 'Andrew', 'Mitch', 'Isabel', 'Ivan', 'Emily', 'Katrina', 'Rita', 'Wilma', 'Dean', 'Felix', 'Matthew', 'Irma', 'Maria', 'Michael']"
   ]
  },
  {
   "cell_type": "code",
   "execution_count": 2,
   "metadata": {},
   "outputs": [],
   "source": [
    "# months of hurricanes\n",
    "months = ['October', 'September', 'September', 'November', 'August', 'September', 'September', 'September', 'September', 'September', 'September', 'October', 'September', 'August', 'September', 'September', 'August', 'August', 'September', 'September', 'August', 'October', 'September', 'September', 'July', 'August', 'September', 'October', 'August', 'September', 'October', 'September', 'September', 'October']"
   ]
  },
  {
   "cell_type": "code",
   "execution_count": 3,
   "metadata": {},
   "outputs": [],
   "source": [
    "# years of hurricanes\n",
    "years = [1924, 1928, 1932, 1932, 1933, 1933, 1935, 1938, 1953, 1955, 1961, 1961, 1967, 1969, 1971, 1977, 1979, 1980, 1988, 1989, 1992, 1998, 2003, 2004, 2005, 2005, 2005, 2005, 2007, 2007, 2016, 2017, 2017, 2018]"
   ]
  },
  {
   "cell_type": "code",
   "execution_count": 4,
   "metadata": {},
   "outputs": [],
   "source": [
    "# maximum sustained winds (mph) of hurricanes\n",
    "max_sustained_winds = [165, 160, 160, 175, 160, 160, 185, 160, 160, 175, 175, 160, 160, 175, 160, 175, 175, 190, 185, 160, 175, 180, 165, 165, 160, 175, 180, 185, 175, 175, 165, 180, 175, 160]"
   ]
  },
  {
   "cell_type": "code",
   "execution_count": 5,
   "metadata": {},
   "outputs": [],
   "source": [
    "# areas affected by each hurricane\n",
    "areas_affected = [['Central America', 'Mexico', 'Cuba', 'Florida', 'The Bahamas'], ['Lesser Antilles', 'The Bahamas', 'United States East Coast', 'Atlantic Canada'], ['The Bahamas', 'Northeastern United States'], ['Lesser Antilles', 'Jamaica', 'Cayman Islands', 'Cuba', 'The Bahamas', 'Bermuda'], ['The Bahamas', 'Cuba', 'Florida', 'Texas', 'Tamaulipas'], ['Jamaica', 'Yucatn Peninsula'], ['The Bahamas', 'Florida', 'Georgia', 'The Carolinas', 'Virginia'], ['Southeastern United States', 'Northeastern United States', 'Southwestern Quebec'], ['Bermuda', 'New England', 'Atlantic Canada'], ['Lesser Antilles', 'Central America'], ['Texas', 'Louisiana', 'Midwestern United States'], ['Central America'], ['The Caribbean', 'Mexico', 'Texas'], ['Cuba', 'United States Gulf Coast'], ['The Caribbean', 'Central America', 'Mexico', 'United States Gulf Coast'], ['Mexico'], ['The Caribbean', 'United States East coast'], ['The Caribbean', 'Yucatn Peninsula', 'Mexico', 'South Texas'], ['Jamaica', 'Venezuela', 'Central America', 'Hispaniola', 'Mexico'], ['The Caribbean', 'United States East Coast'], ['The Bahamas', 'Florida', 'United States Gulf Coast'], ['Central America', 'Yucatn Peninsula', 'South Florida'], ['Greater Antilles', 'Bahamas', 'Eastern United States', 'Ontario'], ['The Caribbean', 'Venezuela', 'United States Gulf Coast'], ['Windward Islands', 'Jamaica', 'Mexico', 'Texas'], ['Bahamas', 'United States Gulf Coast'], ['Cuba', 'United States Gulf Coast'], ['Greater Antilles', 'Central America', 'Florida'], ['The Caribbean', 'Central America'], ['Nicaragua', 'Honduras'], ['Antilles', 'Venezuela', 'Colombia', 'United States East Coast', 'Atlantic Canada'], ['Cape Verde', 'The Caribbean', 'British Virgin Islands', 'U.S. Virgin Islands', 'Cuba', 'Florida'], ['Lesser Antilles', 'Virgin Islands', 'Puerto Rico', 'Dominican Republic', 'Turks and Caicos Islands'], ['Central America', 'United States Gulf Coast (especially Florida Panhandle)']]"
   ]
  },
  {
   "cell_type": "code",
   "execution_count": 6,
   "metadata": {},
   "outputs": [],
   "source": [
    "# damages (USD($)) of hurricanes\n",
    "damages = ['Damages not recorded', '100M', 'Damages not recorded', '40M', '27.9M', '5M', 'Damages not recorded', '306M', '2M', '65.8M', '326M', '60.3M', '208M', '1.42B', '25.4M', 'Damages not recorded', '1.54B', '1.24B', '7.1B', '10B', '26.5B', '6.2B', '5.37B', '23.3B', '1.01B', '125B', '12B', '29.4B', '1.76B', '720M', '15.1B', '64.8B', '91.6B', '25.1B']"
   ]
  },
  {
   "cell_type": "code",
   "execution_count": 7,
   "metadata": {},
   "outputs": [],
   "source": [
    "# deaths for each hurricane\n",
    "deaths = [90,4000,16,3103,179,184,408,682,5,1023,43,319,688,259,37,11,2068,269,318,107,65,19325,51,124,17,1836,125,87,45,133,603,138,3057,74]"
   ]
  },
  {
   "cell_type": "markdown",
   "metadata": {},
   "source": [
    "# 1\n",
    "\n",
    "In order to complete this project, you should have completed the Loops and Dictionaries sections of the Learn Python 3 Course. This content is also covered in the Data Scientist Career Path."
   ]
  },
  {
   "cell_type": "markdown",
   "metadata": {},
   "source": [
    "# 2\n",
    "\n",
    "Hurricanes, also known as cyclones or typhoons, are one of the most powerful forces of nature on Earth. Due to climate change caused by human activity, the number and intensity of hurricanes has risen, calling for better preparation by the many communities that are devastated by them. As a concerned environmentalist, you want to look at data about the most powerful hurricanes that have occurred.\n",
    "\n",
    "Begin by looking at the damages list. The list contains strings representing the total cost in USD($) caused by 34 category 5 hurricanes (wind speeds ≥ 157 mph (252 km/h )) in the Atlantic region. For some of the hurricanes, damage data was not recorded (\"Damages not recorded\"), while the rest are written in the format \"Prefix-B/M\", where B stands for billions (1000000000) and M stands for millions (1000000).\n",
    "\n",
    "Write a function that returns a new list of updated damages where the recorded data is converted to float values and the missing data is retained as \"Damages not recorded\".\n",
    "\n",
    "Test your function with the data stored in damages."
   ]
  },
  {
   "cell_type": "code",
   "execution_count": 8,
   "metadata": {},
   "outputs": [],
   "source": [
    "def convert_damages(damages):\n",
    "\n",
    "  conversion = {'M': 1000000, 'B': 1000000000}\n",
    "  damages_updated = []\n",
    "\n",
    "  for item in damages:\n",
    "    if item == 'Damages not recorded':\n",
    "      damages_updated.append(item),\n",
    "    elif item[-1] in conversion.keys():\n",
    "      new_value = float(item[:-1]) * conversion[item[-1]]\n",
    "      damages_updated.append(new_value)\n",
    "    \n",
    "  return damages_updated"
   ]
  },
  {
   "cell_type": "code",
   "execution_count": 9,
   "metadata": {},
   "outputs": [
    {
     "name": "stdout",
     "output_type": "stream",
     "text": [
      "['Damages not recorded', 100000000.0, 'Damages not recorded', 40000000.0, 27900000.0, 5000000.0, 'Damages not recorded', 306000000.0, 2000000.0, 65800000.0, 326000000.0, 60300000.0, 208000000.0, 1420000000.0, 25400000.0, 'Damages not recorded', 1540000000.0, 1240000000.0, 7100000000.0, 10000000000.0, 26500000000.0, 6200000000.0, 5370000000.0, 23300000000.0, 1010000000.0, 125000000000.0, 12000000000.0, 29400000000.0, 1760000000.0, 720000000.0, 15100000000.0, 64800000000.0, 91600000000.0, 25100000000.0]\n"
     ]
    }
   ],
   "source": [
    "damages_updated = convert_damages(damages)\n",
    "print(damages_updated)  "
   ]
  },
  {
   "cell_type": "markdown",
   "metadata": {},
   "source": [
    "# 3 \n",
    "\n",
    "Additional data collected on the 34 strongest Atlantic hurricanes are provided in a series of lists. The data includes:\n",
    "\n",
    "* names: names of the hurricanes\n",
    "* months: months in which the hurricanes occurred\n",
    "* years: years in which the hurricanes occurred\n",
    "* max_sustained_winds: maximum sustained winds (miles per hour) of the hurricanes\n",
    "* areas_affected: list of different areas affected by each of the hurricanes\n",
    "* deaths: total number of deaths caused by each of the hurricanes  \n",
    "\n",
    "The data is organized such that the data at each index, from 0 to 33, corresponds to the same hurricane.\n",
    "\n",
    "For example, names[0] yields the “Cuba I” hurricane, which ouccred in months[0] (October) years[0] (1924).\n",
    "\n",
    "Write a function that constructs a dictionary made out of the lists, where the keys of the dictionary are the names of the hurricanes, and the values are dictionaries themselves containing a key for each piece of data (Name, Month, Year,Max Sustained Wind, Areas Affected, Damage, Death) about the hurricane.\n",
    "\n",
    "Thus the key \"Cuba I\" would have the value: {'Name': 'Cuba I', 'Month': 'October', 'Year': 1924, 'Max Sustained Wind': 165, 'Areas Affected': ['Central America', 'Mexico', 'Cuba', 'Florida', 'The Bahamas'], 'Damage': 'Damages not recorded', 'Deaths': 90}.\n",
    "\n",
    "Test your function on the lists of data provided."
   ]
  },
  {
   "cell_type": "code",
   "execution_count": 10,
   "metadata": {},
   "outputs": [],
   "source": [
    "def create_dictionary(names, months, years, max_sustained_winds, areas_affected, damages_updated, deaths):\n",
    "    \n",
    "    hurricanes = {}\n",
    "        \n",
    "    for i in range(len(names)):\n",
    "        hurricanes[names[i]] = {\n",
    "            \"Name\": names[i],\n",
    "            \"Month\": months[i],\n",
    "            \"Year\": years[i],\n",
    "            \"Max Sustained Wind\": max_sustained_winds[i],\n",
    "            \"Areas affected\": areas_affected[i],\n",
    "            \"Deaths\": deaths[i],\n",
    "            \"Damages\": damages_updated[i]}\n",
    "        \n",
    "    return hurricanes "
   ]
  },
  {
   "cell_type": "code",
   "execution_count": 11,
   "metadata": {},
   "outputs": [],
   "source": [
    "hurricanes  = create_dictionary(names, months, years, max_sustained_winds, areas_affected, damages_updated, deaths)"
   ]
  },
  {
   "cell_type": "code",
   "execution_count": 12,
   "metadata": {},
   "outputs": [
    {
     "name": "stdout",
     "output_type": "stream",
     "text": [
      "{'Name': 'David', 'Month': 'August', 'Year': 1979, 'Max Sustained Wind': 175, 'Areas affected': ['The Caribbean', 'United States East coast'], 'Deaths': 2068, 'Damages': 1540000000.0}\n"
     ]
    }
   ],
   "source": [
    "print(hurricanes['David'])"
   ]
  },
  {
   "cell_type": "markdown",
   "metadata": {},
   "source": [
    "# 5\n",
    "\n",
    "You believe that knowing how often each of the areas of the Atlantic are affected by these strong hurricanes is important for making preparations for future hurricanes.\n",
    "\n",
    "Write a function that counts how often each area is listed as an affected area of a hurricane. Store and return the results in a dictionary where the keys are the affected areas and the values are counts of how many times the areas were affected.\n",
    "\n",
    "Test your function on your hurricane dictionary."
   ]
  },
  {
   "cell_type": "code",
   "execution_count": 13,
   "metadata": {},
   "outputs": [],
   "source": [
    "def affected_area(data):\n",
    "    \n",
    "    areas_affected_frequency = {}\n",
    "    \n",
    "    for hurricane in data.values():\n",
    "        area_list = hurricane[\"Areas affected\"]\n",
    "        for area in area_list:\n",
    "            if area not in areas_affected_frequency:\n",
    "                areas_affected_frequency[area] = 1\n",
    "            else:\n",
    "                areas_affected_frequency[area] += 1\n",
    "                \n",
    "    return areas_affected_frequency  "
   ]
  },
  {
   "cell_type": "code",
   "execution_count": 14,
   "metadata": {},
   "outputs": [],
   "source": [
    "affected_area_freq = affected_area(hurricanes)"
   ]
  },
  {
   "cell_type": "code",
   "execution_count": 15,
   "metadata": {},
   "outputs": [
    {
     "name": "stdout",
     "output_type": "stream",
     "text": [
      "{'Central America': 9, 'Mexico': 7, 'Cuba': 6, 'Florida': 6, 'The Bahamas': 7, 'Lesser Antilles': 4, 'United States East Coast': 3, 'Atlantic Canada': 3, 'Northeastern United States': 2, 'Jamaica': 4, 'Cayman Islands': 1, 'Bermuda': 2, 'Texas': 4, 'Tamaulipas': 1, 'Yucatn Peninsula': 3, 'Georgia': 1, 'The Carolinas': 1, 'Virginia': 1, 'Southeastern United States': 1, 'Southwestern Quebec': 1, 'New England': 1, 'Louisiana': 1, 'Midwestern United States': 1, 'The Caribbean': 8, 'United States Gulf Coast': 6, 'United States East coast': 1, 'South Texas': 1, 'Venezuela': 3, 'Hispaniola': 1, 'South Florida': 1, 'Greater Antilles': 2, 'Bahamas': 2, 'Eastern United States': 1, 'Ontario': 1, 'Windward Islands': 1, 'Nicaragua': 1, 'Honduras': 1, 'Antilles': 1, 'Colombia': 1, 'Cape Verde': 1, 'British Virgin Islands': 1, 'U.S. Virgin Islands': 1, 'Virgin Islands': 1, 'Puerto Rico': 1, 'Dominican Republic': 1, 'Turks and Caicos Islands': 1, 'United States Gulf Coast (especially Florida Panhandle)': 1}\n"
     ]
    }
   ],
   "source": [
    "print(affected_area_freq)"
   ]
  },
  {
   "cell_type": "markdown",
   "metadata": {},
   "source": [
    "# 6\n",
    "\n",
    "Write a function that finds the area affected by the most hurricanes, and how often it was hit.\n",
    "\n",
    "Test your function on your affected area dictionary."
   ]
  },
  {
   "cell_type": "code",
   "execution_count": 16,
   "metadata": {},
   "outputs": [],
   "source": [
    "def most_affected_area(data):\n",
    "    \n",
    "    maximum = 0\n",
    "    max_area = ''\n",
    "    \n",
    "    for key, value in data.items():\n",
    "        if value > maximum:\n",
    "            maximum = value\n",
    "            max_area = key\n",
    "            \n",
    "    return \"The most affected area is {}, which was hit {} times\".format(max_area, maximum)"
   ]
  },
  {
   "cell_type": "code",
   "execution_count": 17,
   "metadata": {},
   "outputs": [
    {
     "name": "stdout",
     "output_type": "stream",
     "text": [
      "The most affected area is Central America, which was hit 9 times\n"
     ]
    }
   ],
   "source": [
    "most_affected = most_affected_area(affected_area_freq)\n",
    "print(most_affected)"
   ]
  },
  {
   "cell_type": "markdown",
   "metadata": {},
   "source": [
    "# 7 \n",
    "\n",
    "Write a function that finds the hurricane that caused the greatest number of deaths, and how many deaths it caused.\n",
    "\n",
    "Test your function on your hurricane dictionary."
   ]
  },
  {
   "cell_type": "code",
   "execution_count": 18,
   "metadata": {},
   "outputs": [],
   "source": [
    "def higher_number_of_deaths(data):\n",
    "    \n",
    "    maximum = 0\n",
    "    max_deaths = ''\n",
    "    year = 0\n",
    "    \n",
    "    for hurricane in data.values():\n",
    "        if hurricane['Deaths'] > maximum:\n",
    "            maximum = hurricane['Deaths']\n",
    "            name = hurricane['Name']\n",
    "            year = hurricane['Year']\n",
    "            \n",
    "    return \"The deadliest hurricane was Hurricane {} in {} which killed {} people\".format(name, year, maximum)      "
   ]
  },
  {
   "cell_type": "code",
   "execution_count": 19,
   "metadata": {},
   "outputs": [
    {
     "name": "stdout",
     "output_type": "stream",
     "text": [
      "The deadliest hurricane was Hurricane Mitch in 1998 which killed 19325 people\n"
     ]
    }
   ],
   "source": [
    "max_deaths = higher_number_of_deaths(hurricanes)\n",
    "print(max_deaths)"
   ]
  },
  {
   "cell_type": "markdown",
   "metadata": {},
   "source": [
    "# 8\n",
    "\n",
    "Just as hurricanes are rated by their windspeed, you want to try rating hurricanes based on other metrics.\n",
    "\n",
    "Write a function that rates hurricanes on a mortality scale according to the following ratings, where the key is the rating and the value is the upper bound of deaths for that rating.\n",
    "\n",
    "<code>\n",
    "mortality_scale = {0: 0,\n",
    "                   1: 100,\n",
    "                   2: 500,\n",
    "                   3: 1000,\n",
    "                   4: 10000}    \n",
    "</code>                      \n",
    "                   \n",
    "<br>     \n",
    "\n",
    "For example, a hurricane with a 1 mortality rating would have resulted in greater than 0 but less than or equal to 100 deaths. A hurricane with a 5 mortality rating would have resulted in greater than 10000 deaths.\n",
    "\n",
    "Store the hurricanes in a new dictionary where the keys are mortality ratings and the values are lists containing a dictionary for each hurricane that falls into that mortality rating.\n",
    "\n",
    "Test your function on your hurricane dictionary.                   "
   ]
  },
  {
   "cell_type": "code",
   "execution_count": 20,
   "metadata": {},
   "outputs": [],
   "source": [
    "def mortality_scale(data):\n",
    "    \n",
    "    mortality = {0: [], 1: [], 2: [], 3: [], 4: [], 5: []}   \n",
    "    \n",
    "    for i in hurricanes:\n",
    "        if hurricanes[i]['Deaths'] == 0:\n",
    "            mortality[0].append(i)\n",
    "        elif hurricanes[i]['Deaths'] <= 100:\n",
    "            mortality[1].append(i)\n",
    "        elif hurricanes[i]['Deaths'] <= 500:\n",
    "            mortality[2].append(i)\n",
    "        elif hurricanes[i]['Deaths'] <= 100:\n",
    "            mortality[3].append(i)\n",
    "        elif hurricanes[i]['Deaths'] <= 10000:\n",
    "            mortality[4].append(i)\n",
    "            \n",
    "    return mortality"
   ]
  },
  {
   "cell_type": "code",
   "execution_count": 21,
   "metadata": {},
   "outputs": [
    {
     "name": "stdout",
     "output_type": "stream",
     "text": [
      "{0: [], 1: ['Cuba I', 'Bahamas', 'Carol', 'Carla', 'Edith', 'Anita', 'Andrew', 'Isabel', 'Emily', 'Wilma', 'Dean', 'Michael'], 2: ['CubaBrownsville', 'Tampico', 'Labor Day', 'Hattie', 'Camille', 'Allen', 'Gilbert', 'Hugo', 'Ivan', 'Rita', 'Felix', 'Irma'], 3: [], 4: ['San Felipe II Okeechobee', 'Cuba II', 'New England', 'Janet', 'Beulah', 'David', 'Katrina', 'Matthew', 'Maria'], 5: []}\n"
     ]
    }
   ],
   "source": [
    "hurricanes_by_mortality = mortality_scale(hurricanes)\n",
    "print(hurricanes_by_mortality)"
   ]
  },
  {
   "cell_type": "markdown",
   "metadata": {},
   "source": [
    "# 9\n",
    "\n",
    "\n",
    "Write a function that finds the hurricane that caused the greatest damage, and how costly it was.\n",
    "\n",
    "Test your function on your hurricane dictionary."
   ]
  },
  {
   "cell_type": "code",
   "execution_count": 22,
   "metadata": {},
   "outputs": [],
   "source": [
    "def greatest_damage(data):\n",
    "    \n",
    "    maximum = 0\n",
    "    max_damage = ''\n",
    "    \n",
    "    for i in hurricanes:\n",
    "        if type(hurricanes[i]['Damages']) is float or type(hurricanes[i]['Damages']) is int:\n",
    "              if hurricanes[i]['Damages'] > maximum:\n",
    "                    maximum = hurricanes[i]['Damages']\n",
    "                    max_damage = i   \n",
    "            \n",
    "    return max_damage "
   ]
  },
  {
   "cell_type": "code",
   "execution_count": 23,
   "metadata": {},
   "outputs": [
    {
     "data": {
      "text/plain": [
       "'Katrina'"
      ]
     },
     "execution_count": 23,
     "metadata": {},
     "output_type": "execute_result"
    }
   ],
   "source": [
    "greatest_damage(hurricanes)"
   ]
  },
  {
   "cell_type": "markdown",
   "metadata": {},
   "source": [
    "# 10\n",
    "\n",
    "Lastly, you want to rate hurricanes according to how much damage they cause.\n",
    "\n",
    "Write a function that rates hurricanes on a damage scale according to the following ratings, where the key is the rating and the value is the upper bound of damage for that rating.\n",
    "\n",
    "<code>\n",
    "damage_scale = {0: 0,\n",
    "                1: 100000000,\n",
    "                2: 1000000000,\n",
    "                3: 10000000000,\n",
    "                4: 50000000000}    \n",
    "</code>    \n",
    "<br>    \n",
    "For example, a hurricane with a 1 damage rating would have resulted in damages greater than 0 USD but less than or equal to 100000000 USD. A hurricane with a 5 damage rating would have resulted in damages greater than 50000000000 USD (talk about a lot of money).\n",
    "\n",
    "Store the hurricanes in a new dictionary where the keys are damage ratings and the values are lists containing a dictionary for each hurricane that falls into that damage rating.\n",
    "\n",
    "Test your function on your hurricane dictionary.    "
   ]
  },
  {
   "cell_type": "code",
   "execution_count": 24,
   "metadata": {},
   "outputs": [],
   "source": [
    "def damage_scale(data):\n",
    "    \n",
    "    damage_sc = {0: [], 1: [], 2: [], 3: [], 4: [], 5: []}   \n",
    "    \n",
    "    for i in hurricanes:\n",
    "        if type(hurricanes[i]['Damages']) is float or type(hurricanes[i]['Damages']) is int:\n",
    "            if hurricanes[i]['Damages'] == 0:\n",
    "                damage_sc[0].append(i)\n",
    "            elif hurricanes[i]['Damages'] <= 100000000:\n",
    "                damage_sc[1].append(i)\n",
    "            elif hurricanes[i]['Damages'] <= 1000000000:\n",
    "                damage_sc[2].append(i)\n",
    "            elif hurricanes[i]['Damages'] <= 10000000000:\n",
    "                damage_sc[3].append(i)\n",
    "            elif hurricanes[i]['Damages'] <= 50000000000:\n",
    "                damage_sc[4].append(i)\n",
    "            \n",
    "    return damage_sc"
   ]
  },
  {
   "cell_type": "code",
   "execution_count": 25,
   "metadata": {},
   "outputs": [
    {
     "name": "stdout",
     "output_type": "stream",
     "text": [
      "{0: [], 1: ['San Felipe II Okeechobee', 'Cuba II', 'CubaBrownsville', 'Tampico', 'Carol', 'Janet', 'Hattie', 'Edith'], 2: ['New England', 'Carla', 'Beulah', 'Felix'], 3: ['Camille', 'David', 'Allen', 'Gilbert', 'Hugo', 'Mitch', 'Isabel', 'Emily', 'Dean'], 4: ['Andrew', 'Ivan', 'Rita', 'Wilma', 'Matthew', 'Michael'], 5: []}\n"
     ]
    }
   ],
   "source": [
    "most_damage = damage_scale(hurricanes)\n",
    "print(most_damage)"
   ]
  },
  {
   "cell_type": "markdown",
   "metadata": {},
   "source": [
    "### Creating a Pandas Data Frame from dictionary"
   ]
  },
  {
   "cell_type": "code",
   "execution_count": 26,
   "metadata": {},
   "outputs": [],
   "source": [
    "import pandas as pd"
   ]
  },
  {
   "cell_type": "code",
   "execution_count": 54,
   "metadata": {},
   "outputs": [
    {
     "name": "stdout",
     "output_type": "stream",
     "text": [
      "{'Cuba I': {'Name': 'Cuba I', 'Month': 'October', 'Year': 1924, 'Max Sustained Wind': 165, 'Areas affected': ['Central America', 'Mexico', 'Cuba', 'Florida', 'The Bahamas'], 'Deaths': 90, 'Damages': 'Damages not recorded'}, 'San Felipe II Okeechobee': {'Name': 'San Felipe II Okeechobee', 'Month': 'September', 'Year': 1928, 'Max Sustained Wind': 160, 'Areas affected': ['Lesser Antilles', 'The Bahamas', 'United States East Coast', 'Atlantic Canada'], 'Deaths': 4000, 'Damages': 100000000.0}, 'Bahamas': {'Name': 'Bahamas', 'Month': 'September', 'Year': 1932, 'Max Sustained Wind': 160, 'Areas affected': ['The Bahamas', 'Northeastern United States'], 'Deaths': 16, 'Damages': 'Damages not recorded'}, 'Cuba II': {'Name': 'Cuba II', 'Month': 'November', 'Year': 1932, 'Max Sustained Wind': 175, 'Areas affected': ['Lesser Antilles', 'Jamaica', 'Cayman Islands', 'Cuba', 'The Bahamas', 'Bermuda'], 'Deaths': 3103, 'Damages': 40000000.0}, 'CubaBrownsville': {'Name': 'CubaBrownsville', 'Month': 'August', 'Year': 1933, 'Max Sustained Wind': 160, 'Areas affected': ['The Bahamas', 'Cuba', 'Florida', 'Texas', 'Tamaulipas'], 'Deaths': 179, 'Damages': 27900000.0}, 'Tampico': {'Name': 'Tampico', 'Month': 'September', 'Year': 1933, 'Max Sustained Wind': 160, 'Areas affected': ['Jamaica', 'Yucatn Peninsula'], 'Deaths': 184, 'Damages': 5000000.0}, 'Labor Day': {'Name': 'Labor Day', 'Month': 'September', 'Year': 1935, 'Max Sustained Wind': 185, 'Areas affected': ['The Bahamas', 'Florida', 'Georgia', 'The Carolinas', 'Virginia'], 'Deaths': 408, 'Damages': 'Damages not recorded'}, 'New England': {'Name': 'New England', 'Month': 'September', 'Year': 1938, 'Max Sustained Wind': 160, 'Areas affected': ['Southeastern United States', 'Northeastern United States', 'Southwestern Quebec'], 'Deaths': 682, 'Damages': 306000000.0}, 'Carol': {'Name': 'Carol', 'Month': 'September', 'Year': 1953, 'Max Sustained Wind': 160, 'Areas affected': ['Bermuda', 'New England', 'Atlantic Canada'], 'Deaths': 5, 'Damages': 2000000.0}, 'Janet': {'Name': 'Janet', 'Month': 'September', 'Year': 1955, 'Max Sustained Wind': 175, 'Areas affected': ['Lesser Antilles', 'Central America'], 'Deaths': 1023, 'Damages': 65800000.0}, 'Carla': {'Name': 'Carla', 'Month': 'September', 'Year': 1961, 'Max Sustained Wind': 175, 'Areas affected': ['Texas', 'Louisiana', 'Midwestern United States'], 'Deaths': 43, 'Damages': 326000000.0}, 'Hattie': {'Name': 'Hattie', 'Month': 'October', 'Year': 1961, 'Max Sustained Wind': 160, 'Areas affected': ['Central America'], 'Deaths': 319, 'Damages': 60300000.0}, 'Beulah': {'Name': 'Beulah', 'Month': 'September', 'Year': 1967, 'Max Sustained Wind': 160, 'Areas affected': ['The Caribbean', 'Mexico', 'Texas'], 'Deaths': 688, 'Damages': 208000000.0}, 'Camille': {'Name': 'Camille', 'Month': 'August', 'Year': 1969, 'Max Sustained Wind': 175, 'Areas affected': ['Cuba', 'United States Gulf Coast'], 'Deaths': 259, 'Damages': 1420000000.0}, 'Edith': {'Name': 'Edith', 'Month': 'September', 'Year': 1971, 'Max Sustained Wind': 160, 'Areas affected': ['The Caribbean', 'Central America', 'Mexico', 'United States Gulf Coast'], 'Deaths': 37, 'Damages': 25400000.0}, 'Anita': {'Name': 'Anita', 'Month': 'September', 'Year': 1977, 'Max Sustained Wind': 175, 'Areas affected': ['Mexico'], 'Deaths': 11, 'Damages': 'Damages not recorded'}, 'David': {'Name': 'David', 'Month': 'August', 'Year': 1979, 'Max Sustained Wind': 175, 'Areas affected': ['The Caribbean', 'United States East coast'], 'Deaths': 2068, 'Damages': 1540000000.0}, 'Allen': {'Name': 'Allen', 'Month': 'August', 'Year': 1980, 'Max Sustained Wind': 190, 'Areas affected': ['The Caribbean', 'Yucatn Peninsula', 'Mexico', 'South Texas'], 'Deaths': 269, 'Damages': 1240000000.0}, 'Gilbert': {'Name': 'Gilbert', 'Month': 'September', 'Year': 1988, 'Max Sustained Wind': 185, 'Areas affected': ['Jamaica', 'Venezuela', 'Central America', 'Hispaniola', 'Mexico'], 'Deaths': 318, 'Damages': 7100000000.0}, 'Hugo': {'Name': 'Hugo', 'Month': 'September', 'Year': 1989, 'Max Sustained Wind': 160, 'Areas affected': ['The Caribbean', 'United States East Coast'], 'Deaths': 107, 'Damages': 10000000000.0}, 'Andrew': {'Name': 'Andrew', 'Month': 'August', 'Year': 1992, 'Max Sustained Wind': 175, 'Areas affected': ['The Bahamas', 'Florida', 'United States Gulf Coast'], 'Deaths': 65, 'Damages': 26500000000.0}, 'Mitch': {'Name': 'Mitch', 'Month': 'October', 'Year': 1998, 'Max Sustained Wind': 180, 'Areas affected': ['Central America', 'Yucatn Peninsula', 'South Florida'], 'Deaths': 19325, 'Damages': 6200000000.0}, 'Isabel': {'Name': 'Isabel', 'Month': 'September', 'Year': 2003, 'Max Sustained Wind': 165, 'Areas affected': ['Greater Antilles', 'Bahamas', 'Eastern United States', 'Ontario'], 'Deaths': 51, 'Damages': 5370000000.0}, 'Ivan': {'Name': 'Ivan', 'Month': 'September', 'Year': 2004, 'Max Sustained Wind': 165, 'Areas affected': ['The Caribbean', 'Venezuela', 'United States Gulf Coast'], 'Deaths': 124, 'Damages': 23300000000.0}, 'Emily': {'Name': 'Emily', 'Month': 'July', 'Year': 2005, 'Max Sustained Wind': 160, 'Areas affected': ['Windward Islands', 'Jamaica', 'Mexico', 'Texas'], 'Deaths': 17, 'Damages': 1010000000.0}, 'Katrina': {'Name': 'Katrina', 'Month': 'August', 'Year': 2005, 'Max Sustained Wind': 175, 'Areas affected': ['Bahamas', 'United States Gulf Coast'], 'Deaths': 1836, 'Damages': 125000000000.0}, 'Rita': {'Name': 'Rita', 'Month': 'September', 'Year': 2005, 'Max Sustained Wind': 180, 'Areas affected': ['Cuba', 'United States Gulf Coast'], 'Deaths': 125, 'Damages': 12000000000.0}, 'Wilma': {'Name': 'Wilma', 'Month': 'October', 'Year': 2005, 'Max Sustained Wind': 185, 'Areas affected': ['Greater Antilles', 'Central America', 'Florida'], 'Deaths': 87, 'Damages': 29400000000.0}, 'Dean': {'Name': 'Dean', 'Month': 'August', 'Year': 2007, 'Max Sustained Wind': 175, 'Areas affected': ['The Caribbean', 'Central America'], 'Deaths': 45, 'Damages': 1760000000.0}, 'Felix': {'Name': 'Felix', 'Month': 'September', 'Year': 2007, 'Max Sustained Wind': 175, 'Areas affected': ['Nicaragua', 'Honduras'], 'Deaths': 133, 'Damages': 720000000.0}, 'Matthew': {'Name': 'Matthew', 'Month': 'October', 'Year': 2016, 'Max Sustained Wind': 165, 'Areas affected': ['Antilles', 'Venezuela', 'Colombia', 'United States East Coast', 'Atlantic Canada'], 'Deaths': 603, 'Damages': 15100000000.0}, 'Irma': {'Name': 'Irma', 'Month': 'September', 'Year': 2017, 'Max Sustained Wind': 180, 'Areas affected': ['Cape Verde', 'The Caribbean', 'British Virgin Islands', 'U.S. Virgin Islands', 'Cuba', 'Florida'], 'Deaths': 138, 'Damages': 64800000000.0}, 'Maria': {'Name': 'Maria', 'Month': 'September', 'Year': 2017, 'Max Sustained Wind': 175, 'Areas affected': ['Lesser Antilles', 'Virgin Islands', 'Puerto Rico', 'Dominican Republic', 'Turks and Caicos Islands'], 'Deaths': 3057, 'Damages': 91600000000.0}, 'Michael': {'Name': 'Michael', 'Month': 'October', 'Year': 2018, 'Max Sustained Wind': 160, 'Areas affected': ['Central America', 'United States Gulf Coast (especially Florida Panhandle)'], 'Deaths': 74, 'Damages': 25100000000.0}}\n"
     ]
    }
   ],
   "source": [
    "print(hurricanes)"
   ]
  },
  {
   "cell_type": "code",
   "execution_count": 71,
   "metadata": {},
   "outputs": [],
   "source": [
    "hurricane_df = pd.DataFrame.from_dict(hurricanes, orient=\"Index\")"
   ]
  },
  {
   "cell_type": "code",
   "execution_count": 72,
   "metadata": {},
   "outputs": [
    {
     "data": {
      "text/html": [
       "<div>\n",
       "<style scoped>\n",
       "    .dataframe tbody tr th:only-of-type {\n",
       "        vertical-align: middle;\n",
       "    }\n",
       "\n",
       "    .dataframe tbody tr th {\n",
       "        vertical-align: top;\n",
       "    }\n",
       "\n",
       "    .dataframe thead th {\n",
       "        text-align: right;\n",
       "    }\n",
       "</style>\n",
       "<table border=\"1\" class=\"dataframe\">\n",
       "  <thead>\n",
       "    <tr style=\"text-align: right;\">\n",
       "      <th></th>\n",
       "      <th>Name</th>\n",
       "      <th>Month</th>\n",
       "      <th>Year</th>\n",
       "      <th>Max Sustained Wind</th>\n",
       "      <th>Areas affected</th>\n",
       "      <th>Deaths</th>\n",
       "      <th>Damages</th>\n",
       "    </tr>\n",
       "  </thead>\n",
       "  <tbody>\n",
       "    <tr>\n",
       "      <th>Cuba I</th>\n",
       "      <td>Cuba I</td>\n",
       "      <td>October</td>\n",
       "      <td>1924</td>\n",
       "      <td>165</td>\n",
       "      <td>[Central America, Mexico, Cuba, Florida, The B...</td>\n",
       "      <td>90</td>\n",
       "      <td>Damages not recorded</td>\n",
       "    </tr>\n",
       "    <tr>\n",
       "      <th>San Felipe II Okeechobee</th>\n",
       "      <td>San Felipe II Okeechobee</td>\n",
       "      <td>September</td>\n",
       "      <td>1928</td>\n",
       "      <td>160</td>\n",
       "      <td>[Lesser Antilles, The Bahamas, United States E...</td>\n",
       "      <td>4000</td>\n",
       "      <td>1e+08</td>\n",
       "    </tr>\n",
       "    <tr>\n",
       "      <th>Bahamas</th>\n",
       "      <td>Bahamas</td>\n",
       "      <td>September</td>\n",
       "      <td>1932</td>\n",
       "      <td>160</td>\n",
       "      <td>[The Bahamas, Northeastern United States]</td>\n",
       "      <td>16</td>\n",
       "      <td>Damages not recorded</td>\n",
       "    </tr>\n",
       "    <tr>\n",
       "      <th>Cuba II</th>\n",
       "      <td>Cuba II</td>\n",
       "      <td>November</td>\n",
       "      <td>1932</td>\n",
       "      <td>175</td>\n",
       "      <td>[Lesser Antilles, Jamaica, Cayman Islands, Cub...</td>\n",
       "      <td>3103</td>\n",
       "      <td>4e+07</td>\n",
       "    </tr>\n",
       "    <tr>\n",
       "      <th>CubaBrownsville</th>\n",
       "      <td>CubaBrownsville</td>\n",
       "      <td>August</td>\n",
       "      <td>1933</td>\n",
       "      <td>160</td>\n",
       "      <td>[The Bahamas, Cuba, Florida, Texas, Tamaulipas]</td>\n",
       "      <td>179</td>\n",
       "      <td>2.79e+07</td>\n",
       "    </tr>\n",
       "  </tbody>\n",
       "</table>\n",
       "</div>"
      ],
      "text/plain": [
       "                                              Name      Month  Year  \\\n",
       "Cuba I                                      Cuba I    October  1924   \n",
       "San Felipe II Okeechobee  San Felipe II Okeechobee  September  1928   \n",
       "Bahamas                                    Bahamas  September  1932   \n",
       "Cuba II                                    Cuba II   November  1932   \n",
       "CubaBrownsville                    CubaBrownsville     August  1933   \n",
       "\n",
       "                          Max Sustained Wind  \\\n",
       "Cuba I                                   165   \n",
       "San Felipe II Okeechobee                 160   \n",
       "Bahamas                                  160   \n",
       "Cuba II                                  175   \n",
       "CubaBrownsville                          160   \n",
       "\n",
       "                                                             Areas affected  \\\n",
       "Cuba I                    [Central America, Mexico, Cuba, Florida, The B...   \n",
       "San Felipe II Okeechobee  [Lesser Antilles, The Bahamas, United States E...   \n",
       "Bahamas                           [The Bahamas, Northeastern United States]   \n",
       "Cuba II                   [Lesser Antilles, Jamaica, Cayman Islands, Cub...   \n",
       "CubaBrownsville             [The Bahamas, Cuba, Florida, Texas, Tamaulipas]   \n",
       "\n",
       "                          Deaths               Damages  \n",
       "Cuba I                        90  Damages not recorded  \n",
       "San Felipe II Okeechobee    4000                 1e+08  \n",
       "Bahamas                       16  Damages not recorded  \n",
       "Cuba II                     3103                 4e+07  \n",
       "CubaBrownsville              179              2.79e+07  "
      ]
     },
     "execution_count": 72,
     "metadata": {},
     "output_type": "execute_result"
    }
   ],
   "source": [
    "hurricane_df.head()"
   ]
  },
  {
   "cell_type": "code",
   "execution_count": 73,
   "metadata": {},
   "outputs": [
    {
     "data": {
      "text/plain": [
       "(34, 7)"
      ]
     },
     "execution_count": 73,
     "metadata": {},
     "output_type": "execute_result"
    }
   ],
   "source": [
    "hurricane_df.shape"
   ]
  },
  {
   "cell_type": "code",
   "execution_count": 74,
   "metadata": {},
   "outputs": [
    {
     "data": {
      "text/plain": [
       "Name                  object\n",
       "Month                 object\n",
       "Year                   int64\n",
       "Max Sustained Wind     int64\n",
       "Areas affected        object\n",
       "Deaths                 int64\n",
       "Damages               object\n",
       "dtype: object"
      ]
     },
     "execution_count": 74,
     "metadata": {},
     "output_type": "execute_result"
    }
   ],
   "source": [
    "hurricane_df.dtypes"
   ]
  },
  {
   "cell_type": "markdown",
   "metadata": {},
   "source": [
    "### Data cleaning"
   ]
  },
  {
   "cell_type": "code",
   "execution_count": 75,
   "metadata": {},
   "outputs": [],
   "source": [
    "def convert_damages(valor):\n",
    "    \n",
    "    if valor == 'Damages not recorded':\n",
    "        return 0\n",
    "    else:\n",
    "        return valor"
   ]
  },
  {
   "cell_type": "code",
   "execution_count": 76,
   "metadata": {},
   "outputs": [],
   "source": [
    "hurricane_df['Damages'] = hurricane_df['Damages'].map(convert_damages)"
   ]
  },
  {
   "cell_type": "code",
   "execution_count": 77,
   "metadata": {},
   "outputs": [
    {
     "data": {
      "text/html": [
       "<div>\n",
       "<style scoped>\n",
       "    .dataframe tbody tr th:only-of-type {\n",
       "        vertical-align: middle;\n",
       "    }\n",
       "\n",
       "    .dataframe tbody tr th {\n",
       "        vertical-align: top;\n",
       "    }\n",
       "\n",
       "    .dataframe thead th {\n",
       "        text-align: right;\n",
       "    }\n",
       "</style>\n",
       "<table border=\"1\" class=\"dataframe\">\n",
       "  <thead>\n",
       "    <tr style=\"text-align: right;\">\n",
       "      <th></th>\n",
       "      <th>Name</th>\n",
       "      <th>Month</th>\n",
       "      <th>Year</th>\n",
       "      <th>Max Sustained Wind</th>\n",
       "      <th>Areas affected</th>\n",
       "      <th>Deaths</th>\n",
       "      <th>Damages</th>\n",
       "    </tr>\n",
       "  </thead>\n",
       "  <tbody>\n",
       "    <tr>\n",
       "      <th>Cuba I</th>\n",
       "      <td>Cuba I</td>\n",
       "      <td>October</td>\n",
       "      <td>1924</td>\n",
       "      <td>165</td>\n",
       "      <td>[Central America, Mexico, Cuba, Florida, The B...</td>\n",
       "      <td>90</td>\n",
       "      <td>0.0</td>\n",
       "    </tr>\n",
       "    <tr>\n",
       "      <th>San Felipe II Okeechobee</th>\n",
       "      <td>San Felipe II Okeechobee</td>\n",
       "      <td>September</td>\n",
       "      <td>1928</td>\n",
       "      <td>160</td>\n",
       "      <td>[Lesser Antilles, The Bahamas, United States E...</td>\n",
       "      <td>4000</td>\n",
       "      <td>100000000.0</td>\n",
       "    </tr>\n",
       "    <tr>\n",
       "      <th>Bahamas</th>\n",
       "      <td>Bahamas</td>\n",
       "      <td>September</td>\n",
       "      <td>1932</td>\n",
       "      <td>160</td>\n",
       "      <td>[The Bahamas, Northeastern United States]</td>\n",
       "      <td>16</td>\n",
       "      <td>0.0</td>\n",
       "    </tr>\n",
       "    <tr>\n",
       "      <th>Cuba II</th>\n",
       "      <td>Cuba II</td>\n",
       "      <td>November</td>\n",
       "      <td>1932</td>\n",
       "      <td>175</td>\n",
       "      <td>[Lesser Antilles, Jamaica, Cayman Islands, Cub...</td>\n",
       "      <td>3103</td>\n",
       "      <td>40000000.0</td>\n",
       "    </tr>\n",
       "    <tr>\n",
       "      <th>CubaBrownsville</th>\n",
       "      <td>CubaBrownsville</td>\n",
       "      <td>August</td>\n",
       "      <td>1933</td>\n",
       "      <td>160</td>\n",
       "      <td>[The Bahamas, Cuba, Florida, Texas, Tamaulipas]</td>\n",
       "      <td>179</td>\n",
       "      <td>27900000.0</td>\n",
       "    </tr>\n",
       "  </tbody>\n",
       "</table>\n",
       "</div>"
      ],
      "text/plain": [
       "                                              Name      Month  Year  \\\n",
       "Cuba I                                      Cuba I    October  1924   \n",
       "San Felipe II Okeechobee  San Felipe II Okeechobee  September  1928   \n",
       "Bahamas                                    Bahamas  September  1932   \n",
       "Cuba II                                    Cuba II   November  1932   \n",
       "CubaBrownsville                    CubaBrownsville     August  1933   \n",
       "\n",
       "                          Max Sustained Wind  \\\n",
       "Cuba I                                   165   \n",
       "San Felipe II Okeechobee                 160   \n",
       "Bahamas                                  160   \n",
       "Cuba II                                  175   \n",
       "CubaBrownsville                          160   \n",
       "\n",
       "                                                             Areas affected  \\\n",
       "Cuba I                    [Central America, Mexico, Cuba, Florida, The B...   \n",
       "San Felipe II Okeechobee  [Lesser Antilles, The Bahamas, United States E...   \n",
       "Bahamas                           [The Bahamas, Northeastern United States]   \n",
       "Cuba II                   [Lesser Antilles, Jamaica, Cayman Islands, Cub...   \n",
       "CubaBrownsville             [The Bahamas, Cuba, Florida, Texas, Tamaulipas]   \n",
       "\n",
       "                          Deaths      Damages  \n",
       "Cuba I                        90          0.0  \n",
       "San Felipe II Okeechobee    4000  100000000.0  \n",
       "Bahamas                       16          0.0  \n",
       "Cuba II                     3103   40000000.0  \n",
       "CubaBrownsville              179   27900000.0  "
      ]
     },
     "execution_count": 77,
     "metadata": {},
     "output_type": "execute_result"
    }
   ],
   "source": [
    "hurricane_df.head()"
   ]
  },
  {
   "cell_type": "code",
   "execution_count": 79,
   "metadata": {},
   "outputs": [
    {
     "data": {
      "text/plain": [
       "Name                   object\n",
       "Month                  object\n",
       "Year                    int64\n",
       "Max Sustained Wind      int64\n",
       "Areas affected         object\n",
       "Deaths                  int64\n",
       "Damages               float64\n",
       "dtype: object"
      ]
     },
     "execution_count": 79,
     "metadata": {},
     "output_type": "execute_result"
    }
   ],
   "source": [
    "hurricane_df.dtypes"
   ]
  },
  {
   "cell_type": "markdown",
   "metadata": {},
   "source": [
    "### Using Seaborn for Data Visualization"
   ]
  },
  {
   "cell_type": "code",
   "execution_count": 40,
   "metadata": {},
   "outputs": [],
   "source": [
    "import seaborn as sns\n",
    "import matplotlib.pyplot as plt"
   ]
  },
  {
   "cell_type": "code",
   "execution_count": 85,
   "metadata": {},
   "outputs": [
    {
     "data": {
      "text/plain": [
       "<matplotlib.axes._subplots.AxesSubplot at 0x26aabe05d48>"
      ]
     },
     "execution_count": 85,
     "metadata": {},
     "output_type": "execute_result"
    },
    {
     "data": {
      "image/png": "[encoded data removed]",
      "text/plain": [
       "<Figure size 1728x432 with 1 Axes>"
      ]
     },
     "metadata": {
      "needs_background": "light"
     },
     "output_type": "display_data"
    }
   ],
   "source": [
    "plt.figure(figsize=(24, 6))\n",
    "plt.xticks(rotation=30, horizontalalignment=\"right\")\n",
    "plt.title('Deaths caused by name')\n",
    "sns.barplot(x=hurricane_df.Name, y=hurricane_df.Deaths)"
   ]
  },
  {
   "cell_type": "code",
   "execution_count": 86,
   "metadata": {},
   "outputs": [
    {
     "data": {
      "text/plain": [
       "<matplotlib.axes._subplots.AxesSubplot at 0x26aab9d3e48>"
      ]
     },
     "execution_count": 86,
     "metadata": {},
     "output_type": "execute_result"
    },
    {
     "data": {
      "image/png": "[encoded data removed]",
      "text/plain": [
       "<Figure size 1728x432 with 1 Axes>"
      ]
     },
     "metadata": {
      "needs_background": "light"
     },
     "output_type": "display_data"
    }
   ],
   "source": [
    "plt.figure(figsize=(24, 6))\n",
    "plt.xticks(rotation=30, horizontalalignment=\"right\")\n",
    "plt.title('Damages caused by name')\n",
    "sns.barplot(x=hurricane_df.Name, y=hurricane_df.Damages)"
   ]
  },
  {
   "cell_type": "code",
   "execution_count": 87,
   "metadata": {},
   "outputs": [
    {
     "data": {
      "text/plain": [
       "<matplotlib.axes._subplots.AxesSubplot at 0x26aabb37cc8>"
      ]
     },
     "execution_count": 87,
     "metadata": {},
     "output_type": "execute_result"
    },
    {
     "data": {
      "image/png": "[encoded data removed]",
      "text/plain": [
       "<Figure size 1728x432 with 1 Axes>"
      ]
     },
     "metadata": {
      "needs_background": "light"
     },
     "output_type": "display_data"
    }
   ],
   "source": [
    "plt.figure(figsize=(24, 6))\n",
    "plt.xticks(rotation=30, horizontalalignment=\"right\")\n",
    "plt.title('Damages caused by year')\n",
    "sns.barplot(x=hurricane_df.Year, y=hurricane_df.Damages)"
   ]
  },
  {
   "cell_type": "code",
   "execution_count": 88,
   "metadata": {},
   "outputs": [
    {
     "data": {
      "text/plain": [
       "<matplotlib.axes._subplots.AxesSubplot at 0x26aabb2cc08>"
      ]
     },
     "execution_count": 88,
     "metadata": {},
     "output_type": "execute_result"
    },
    {
     "data": {
      "image/png": "[encoded data removed]",
      "text/plain": [
       "<Figure size 1728x432 with 1 Axes>"
      ]
     },
     "metadata": {
      "needs_background": "light"
     },
     "output_type": "display_data"
    }
   ],
   "source": [
    "plt.figure(figsize=(24, 6))\n",
    "plt.xticks(rotation=30, horizontalalignment=\"right\")\n",
    "plt.title('Deaths caused by year')\n",
    "sns.barplot(x=hurricane_df.Year, y=hurricane_df.Deaths)"
   ]
  }
 ],
 "metadata": {
  "kernelspec": {
   "display_name": "Python 3.7.6 64-bit",
   "language": "python",
   "name": "python37664bit56a9d68237e9467280680f5ef087734a"
  },
  "language_info": {
   "codemirror_mode": {
    "name": "ipython",
    "version": 3
   },
   "file_extension": ".py",
   "mimetype": "text/x-python",
   "name": "python",
   "nbconvert_exporter": "python",
   "pygments_lexer": "ipython3",
   "version": "3.7.6"
  }
 },
 "nbformat": 4,
 "nbformat_minor": 4
}
